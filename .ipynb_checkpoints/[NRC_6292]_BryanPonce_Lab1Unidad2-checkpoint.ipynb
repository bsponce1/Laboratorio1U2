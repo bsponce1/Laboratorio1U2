{
 "cells": [
  {
   "cell_type": "code",
   "execution_count": 1,
   "id": "af6282d7",
   "metadata": {},
   "outputs": [],
   "source": [
    "'''Librería para cargar el dataset'''\n",
    "import pandas as pd\n"
   ]
  },
  {
   "cell_type": "code",
   "execution_count": null,
   "id": "0007c153",
   "metadata": {},
   "outputs": [],
   "source": [
    "'''Se carga el dataset'''\n",
    "data = pd.read_csv(\"diabetes.csv\")\n",
    "'''Se muestra los 5 primeros datos'''\n",
    "data.head()"
   ]
  }
 ],
 "metadata": {
  "kernelspec": {
   "display_name": "Python 3 (ipykernel)",
   "language": "python",
   "name": "python3"
  },
  "language_info": {
   "codemirror_mode": {
    "name": "ipython",
    "version": 3
   },
   "file_extension": ".py",
   "mimetype": "text/x-python",
   "name": "python",
   "nbconvert_exporter": "python",
   "pygments_lexer": "ipython3",
   "version": "3.9.12"
  }
 },
 "nbformat": 4,
 "nbformat_minor": 5
}
